{
 "cells": [
  {
   "cell_type": "markdown",
   "metadata": {},
   "source": [
    "# Importing Modules"
   ]
  },
  {
   "cell_type": "code",
   "execution_count": null,
   "metadata": {
    "_cell_guid": "b1076dfc-b9ad-4769-8c92-a6c4dae69d19",
    "_uuid": "8f2839f25d086af736a60e9eeb907d3b93b6e0e5",
    "execution": {
     "iopub.execute_input": "2024-10-26T15:23:37.178627Z",
     "iopub.status.busy": "2024-10-26T15:23:37.178230Z",
     "iopub.status.idle": "2024-10-26T15:23:54.417092Z",
     "shell.execute_reply": "2024-10-26T15:23:54.416022Z",
     "shell.execute_reply.started": "2024-10-26T15:23:37.178591Z"
    },
    "trusted": true
   },
   "outputs": [],
   "source": [
    "import matplotlib.pyplot as plt\n",
    "import numpy as np\n",
    "import pandas as pd\n",
    "import seaborn as sns\n",
    "import os\n",
    "from sklearn.metrics import classification_report, confusion_matrix,roc_auc_score, roc_curve, auc\n",
    "import tensorflow as tf\n",
    "from tensorflow.keras.preprocessing.image import load_img, img_to_array\n",
    "from tensorflow.keras.preprocessing.image import ImageDataGenerator\n",
    "from tensorflow.keras.layers import Dense, Dropout, GlobalAveragePooling2D, Flatten, Conv2D, BatchNormalization, Activation, MaxPooling2D\n",
    "from tensorflow.keras.models import Model, Sequential\n",
    "from tensorflow.keras.optimizers import Adam, SGD, RMSprop\n",
    "from tensorflow.keras.callbacks import ModelCheckpoint, EarlyStopping, ReduceLROnPlateau\n",
    "from tensorflow.keras.applications import ResNet50"
   ]
  },
  {
   "cell_type": "markdown",
   "metadata": {},
   "source": [
    "# Displaying Images"
   ]
  },
  {
   "cell_type": "code",
   "execution_count": 4,
   "metadata": {
    "execution": {
     "iopub.execute_input": "2024-06-20T14:20:57.097286Z",
     "iopub.status.busy": "2024-06-20T14:20:57.096871Z",
     "iopub.status.idle": "2024-06-20T14:20:57.103101Z",
     "shell.execute_reply": "2024-06-20T14:20:57.101735Z",
     "shell.execute_reply.started": "2024-06-20T14:20:57.097251Z"
    },
    "trusted": true
   },
   "outputs": [],
   "source": [
    "picture_size=48\n",
    "folder_path=\"/kaggle/input/face-expression-recognition-dataset/images/\""
   ]
  },
  {
   "cell_type": "code",
   "execution_count": null,
   "metadata": {
    "execution": {
     "iopub.execute_input": "2024-06-20T12:37:15.970902Z",
     "iopub.status.busy": "2024-06-20T12:37:15.970479Z",
     "iopub.status.idle": "2024-06-20T12:37:17.711182Z",
     "shell.execute_reply": "2024-06-20T12:37:17.709732Z",
     "shell.execute_reply.started": "2024-06-20T12:37:15.970869Z"
    },
    "trusted": true
   },
   "outputs": [],
   "source": [
    "expression='angry'\n",
    "plt.style.use('dark_background')\n",
    "plt.figure(figsize=(12,12))\n",
    "for i in range(1,10,1):\n",
    "    plt.subplot(3,3,i)\n",
    "    img=load_img(folder_path+\"train/\"+expression+\"/\"+\n",
    "                os.listdir(folder_path + \"train/\" + expression)[i], target_size=(picture_size, picture_size))\n",
    "    plt.imshow(img)\n",
    "plt.show()"
   ]
  },
  {
   "cell_type": "markdown",
   "metadata": {},
   "source": [
    "# Making Training and Validation Data"
   ]
  },
  {
   "cell_type": "code",
   "execution_count": null,
   "metadata": {
    "execution": {
     "iopub.execute_input": "2024-06-20T14:21:01.482648Z",
     "iopub.status.busy": "2024-06-20T14:21:01.481561Z",
     "iopub.status.idle": "2024-06-20T14:21:27.868054Z",
     "shell.execute_reply": "2024-06-20T14:21:27.866821Z",
     "shell.execute_reply.started": "2024-06-20T14:21:01.482611Z"
    },
    "trusted": true
   },
   "outputs": [],
   "source": [
    "batch_size=128\n",
    "#Adding parameers to ImageDataGenerator\n",
    "datagen_train=ImageDataGenerator(\n",
    "    rescale=1./255,\n",
    "    rotation_range=20,\n",
    "    width_shift_range=0.2,\n",
    "    height_shift_range=0.2,\n",
    "    shear_range=0.2,\n",
    "    zoom_range=0.2,\n",
    "    horizontal_flip=True,\n",
    "    fill_mode='nearest'\n",
    ")\n",
    "datagen_val=ImageDataGenerator(rescale=1./255)\n",
    "train_set=datagen_train.flow_from_directory(folder_path+\"train\",\n",
    "                                           target_size=(picture_size,picture_size),\n",
    "                                           color_mode=\"grayscale\", #before it was grayscale\n",
    "                                           batch_size=batch_size,\n",
    "                                           class_mode='categorical',\n",
    "                                           shuffle=True)\n",
    "test_set=datagen_val.flow_from_directory(folder_path+\"validation\",\n",
    "                                        target_size=(picture_size,picture_size),\n",
    "                                        color_mode=\"grayscale\", #before it was grayscale\n",
    "                                        batch_size=batch_size,\n",
    "                                        class_mode='categorical',\n",
    "                                        shuffle=False)"
   ]
  },
  {
   "cell_type": "markdown",
   "metadata": {},
   "source": [
    "# Model Building"
   ]
  },
  {
   "cell_type": "code",
   "execution_count": null,
   "metadata": {
    "execution": {
     "iopub.execute_input": "2024-06-20T14:21:40.795459Z",
     "iopub.status.busy": "2024-06-20T14:21:40.794666Z",
     "iopub.status.idle": "2024-06-20T14:21:41.473308Z",
     "shell.execute_reply": "2024-06-20T14:21:41.472151Z",
     "shell.execute_reply.started": "2024-06-20T14:21:40.795426Z"
    },
    "trusted": true
   },
   "outputs": [],
   "source": [
    "from keras.optimizers import Adam,SGD,RMSprop\n",
    "\n",
    "\n",
    "no_of_classes = 7\n",
    "\n",
    "model = Sequential()\n",
    "\n",
    "#1st CNN layer\n",
    "model.add(Conv2D(64,(3,3),padding = 'same',input_shape = (48,48,1)))\n",
    "model.add(BatchNormalization())\n",
    "model.add(Activation('relu'))\n",
    "model.add(MaxPooling2D(pool_size = (2,2)))\n",
    "model.add(Dropout(0.3))\n",
    "\n",
    "#2nd CNN layer\n",
    "model.add(Conv2D(128,(5,5),padding = 'same'))\n",
    "model.add(BatchNormalization())\n",
    "model.add(Activation('relu'))\n",
    "model.add(MaxPooling2D(pool_size = (2,2)))\n",
    "model.add(Dropout (0.3))\n",
    "\n",
    "#3rd CNN layer\n",
    "model.add(Conv2D(512,(3,3),padding = 'same'))\n",
    "model.add(BatchNormalization())\n",
    "model.add(Activation('relu'))\n",
    "model.add(MaxPooling2D(pool_size = (2,2)))\n",
    "model.add(Dropout (0.3))\n",
    "\n",
    "#4th CNN layer\n",
    "model.add(Conv2D(512,(3,3), padding='same'))\n",
    "model.add(BatchNormalization())\n",
    "model.add(Activation('relu'))\n",
    "model.add(MaxPooling2D(pool_size=(2, 2)))\n",
    "model.add(Dropout(0.3))\n",
    "\n",
    "model.add(Flatten())\n",
    "\n",
    "#Fully connected 1st layer\n",
    "model.add(Dense(256))\n",
    "model.add(BatchNormalization())\n",
    "model.add(Activation('relu'))\n",
    "model.add(Dropout(0.5))\n",
    "\n",
    "\n",
    "# Fully connected layer 2nd layer\n",
    "model.add(Dense(512))\n",
    "model.add(BatchNormalization())\n",
    "model.add(Activation('relu'))\n",
    "model.add(Dropout(0.5))\n",
    "\n",
    "model.add(Dense(no_of_classes, activation='softmax'))\n",
    "\n",
    "\n",
    "\n",
    "opt = Adam(learning_rate = 0.0001)\n",
    "model.compile(optimizer=opt,loss='categorical_crossentropy', metrics=['accuracy'])\n",
    "model.summary()"
   ]
  },
  {
   "cell_type": "markdown",
   "metadata": {},
   "source": [
    "# Fitting the Model with Training and Validation Data"
   ]
  },
  {
   "cell_type": "code",
   "execution_count": 7,
   "metadata": {
    "execution": {
     "iopub.execute_input": "2024-06-20T14:21:46.503221Z",
     "iopub.status.busy": "2024-06-20T14:21:46.502225Z",
     "iopub.status.idle": "2024-06-20T14:21:46.517739Z",
     "shell.execute_reply": "2024-06-20T14:21:46.516452Z",
     "shell.execute_reply.started": "2024-06-20T14:21:46.503184Z"
    },
    "trusted": true
   },
   "outputs": [],
   "source": [
    "from tensorflow.keras.optimizers import RMSprop,SGD,Adam\n",
    "from tensorflow.keras.callbacks import ModelCheckpoint, EarlyStopping, ReduceLROnPlateau\n",
    "\n",
    "checkpoint = ModelCheckpoint(\"/kaggle/working/model_resnet.keras\", monitor='val_acc', verbose=1, save_best_only=True, mode='max')\n",
    "\n",
    "early_stopping = EarlyStopping(monitor='val_loss',\n",
    "                               min_delta=0,\n",
    "                               patience=15,\n",
    "                               verbose=1,# removed a param before this min_delta=0, and after this verbose=1,\n",
    "                               restore_best_weights=True\n",
    "                          )\n",
    "\n",
    "reduce_learningrate = ReduceLROnPlateau(monitor='val_loss',\n",
    "                              factor=0.2,\n",
    "                              patience=3,\n",
    "                              verbose=1,\n",
    "                              min_delta=0.0001)\n",
    "\n",
    "callbacks_list = [early_stopping,checkpoint,reduce_learningrate]\n",
    "\n",
    "epochs = 50\n",
    "\n",
    "#Ensure train set and test set are in correct format\n",
    "# def process_input(x):\n",
    "#     x=tf.image.grayscale_to_rgb(x) #Conver grayscale to RGB\n",
    "    \n",
    "# train_set=train_set.map(lambda x,y: (preprocess_input(x),y))\n",
    "# test_set=test_set.map(lambda x,y: (preprocess_input(x),y))\n",
    "\n",
    "model.compile(loss='categorical_crossentropy',\n",
    "              optimizer = Adam(learning_rate=0.001),\n",
    "              metrics=['accuracy'])"
   ]
  },
  {
   "cell_type": "code",
   "execution_count": null,
   "metadata": {
    "execution": {
     "iopub.execute_input": "2024-06-20T14:21:58.485656Z",
     "iopub.status.busy": "2024-06-20T14:21:58.484525Z",
     "iopub.status.idle": "2024-06-20T18:11:51.194246Z",
     "shell.execute_reply": "2024-06-20T18:11:51.193024Z",
     "shell.execute_reply.started": "2024-06-20T14:21:58.485620Z"
    },
    "trusted": true
   },
   "outputs": [],
   "source": [
    "history = model.fit(train_set,\n",
    "                    steps_per_epoch=train_set.n//train_set.batch_size,\n",
    "                    epochs=epochs,\n",
    "                    validation_data = test_set,\n",
    "                    validation_steps = test_set.n//test_set.batch_size,\n",
    "                    callbacks=callbacks_list)"
   ]
  },
  {
   "cell_type": "markdown",
   "metadata": {},
   "source": [
    "# Plotting Accuracy & Loss"
   ]
  },
  {
   "cell_type": "code",
   "execution_count": null,
   "metadata": {
    "execution": {
     "iopub.execute_input": "2024-06-20T18:19:54.690576Z",
     "iopub.status.busy": "2024-06-20T18:19:54.690188Z",
     "iopub.status.idle": "2024-06-20T18:19:55.238055Z",
     "shell.execute_reply": "2024-06-20T18:19:55.237008Z",
     "shell.execute_reply.started": "2024-06-20T18:19:54.690546Z"
    },
    "trusted": true
   },
   "outputs": [],
   "source": [
    "plt.style.use('dark_background')\n",
    "\n",
    "plt.figure(figsize=(20,10))\n",
    "plt.subplot(1, 2, 1)\n",
    "plt.suptitle('Optimizer : Adam', fontsize=10)\n",
    "plt.ylabel('Loss', fontsize=16)\n",
    "plt.plot(history.history['loss'], label='Training Loss')\n",
    "plt.plot(history.history['val_loss'], label='Validation Loss')\n",
    "plt.legend(loc='upper right')\n",
    "\n",
    "plt.subplot(1, 2, 2)\n",
    "plt.ylabel('Accuracy', fontsize=16)\n",
    "plt.plot(history.history['accuracy'], label='Training Accuracy')\n",
    "plt.plot(history.history['val_accuracy'], label='Validation Accuracy')\n",
    "plt.legend(loc='lower right')\n",
    "plt.show()\n"
   ]
  },
  {
   "cell_type": "markdown",
   "metadata": {},
   "source": [
    "# Accuracy Values"
   ]
  },
  {
   "cell_type": "code",
   "execution_count": null,
   "metadata": {
    "execution": {
     "iopub.execute_input": "2024-06-20T18:20:03.209386Z",
     "iopub.status.busy": "2024-06-20T18:20:03.208970Z",
     "iopub.status.idle": "2024-06-20T18:20:43.553257Z",
     "shell.execute_reply": "2024-06-20T18:20:43.551949Z",
     "shell.execute_reply.started": "2024-06-20T18:20:03.209352Z"
    },
    "trusted": true
   },
   "outputs": [],
   "source": [
    "# Print training and validation accuracy in percentage\n",
    "final_training_accuracy = history.history['accuracy'][-1] * 100\n",
    "final_validation_accuracy = history.history['val_accuracy'][-1] * 100\n",
    "\n",
    "print(f\"Final Training Accuracy: {final_training_accuracy:.2f}%\")\n",
    "print(f\"Final Validation Accuracy: {final_validation_accuracy:.2f}%\")\n",
    "\n",
    "# Evaluate the model on the test set\n",
    "test_loss, test_accuracy = model.evaluate(test_set)\n",
    "test_accuracy_percentage = test_accuracy * 100\n",
    "print(f\"Test Accuracy: {test_accuracy_percentage:.2f}%\")"
   ]
  },
  {
   "cell_type": "code",
   "execution_count": null,
   "metadata": {
    "execution": {
     "iopub.execute_input": "2024-06-20T18:23:40.252496Z",
     "iopub.status.busy": "2024-06-20T18:23:40.251406Z",
     "iopub.status.idle": "2024-06-20T18:25:01.186034Z",
     "shell.execute_reply": "2024-06-20T18:25:01.184670Z",
     "shell.execute_reply.started": "2024-06-20T18:23:40.252457Z"
    },
    "trusted": true
   },
   "outputs": [],
   "source": [
    "# Evaluate the model on the test set\n",
    "test_loss, test_accuracy = model.evaluate(test_set)\n",
    "print(f\"Test Loss: {test_loss}\")\n",
    "print(f\"Test Accuracy: {test_accuracy}\")\n",
    "\n",
    "# Predict the classes for the test set\n",
    "predictions = model.predict(test_set)\n",
    "predicted_classes = np.argmax(predictions, axis=1)\n",
    "true_classes = test_set.classes\n",
    "class_labels = list(test_set.class_indices.keys())\n",
    "\n",
    "# Print classification report\n",
    "report = classification_report(true_classes, predicted_classes, target_names=class_labels)\n",
    "print(report)\n",
    "\n",
    "# Plot confusion matrix\n",
    "cm = confusion_matrix(true_classes, predicted_classes)\n",
    "plt.figure(figsize=(10, 10))\n",
    "sns.heatmap(cm, annot=True, fmt='d', cmap='Blues', xticklabels=class_labels, yticklabels=class_labels)\n",
    "plt.ylabel('Actual')\n",
    "plt.xlabel('Predicted')\n",
    "plt.show()"
   ]
  },
  {
   "cell_type": "code",
   "execution_count": null,
   "metadata": {
    "execution": {
     "iopub.execute_input": "2024-06-20T18:25:31.512358Z",
     "iopub.status.busy": "2024-06-20T18:25:31.511929Z",
     "iopub.status.idle": "2024-06-20T18:25:31.915370Z",
     "shell.execute_reply": "2024-06-20T18:25:31.914106Z",
     "shell.execute_reply.started": "2024-06-20T18:25:31.512325Z"
    },
    "trusted": true
   },
   "outputs": [],
   "source": [
    "# Plot ROC AUC curve\n",
    "plt.figure(figsize=(15, 10))\n",
    "for i in range(no_of_classes):\n",
    "    fpr, tpr, _ = roc_curve(true_classes, predictions[:, i], pos_label=i)\n",
    "    roc_auc = auc(fpr, tpr)\n",
    "    plt.plot(fpr, tpr, label=f'{class_labels[i]} (AUC = {roc_auc:.2f})')\n",
    "\n",
    "plt.plot([0, 1], [0, 1], 'k--')\n",
    "plt.xlim([0.0, 1.0])\n",
    "plt.ylim([0.0, 1.05])\n",
    "plt.xlabel('False Positive Rate')\n",
    "plt.ylabel('True Positive Rate')\n",
    "plt.title('Receiver Operating Characteristic (ROC) Curve')\n",
    "plt.legend(loc='lower right')\n",
    "plt.show()"
   ]
  },
  {
   "cell_type": "markdown",
   "metadata": {},
   "source": [
    "# Saving the model"
   ]
  },
  {
   "cell_type": "code",
   "execution_count": 10,
   "metadata": {
    "execution": {
     "iopub.execute_input": "2024-06-15T02:23:46.740520Z",
     "iopub.status.busy": "2024-06-15T02:23:46.739510Z",
     "iopub.status.idle": "2024-06-15T02:23:46.878833Z",
     "shell.execute_reply": "2024-06-15T02:23:46.877539Z",
     "shell.execute_reply.started": "2024-06-15T02:23:46.740474Z"
    },
    "trusted": true
   },
   "outputs": [],
   "source": [
    "model.save('/kaggle/working/model.h5')"
   ]
  }
 ],
 "metadata": {
  "kaggle": {
   "accelerator": "none",
   "dataSources": [
    {
     "datasetId": 99505,
     "sourceId": 234911,
     "sourceType": "datasetVersion"
    },
    {
     "datasetId": 5953436,
     "sourceId": 9728848,
     "sourceType": "datasetVersion"
    }
   ],
   "dockerImageVersionId": 30732,
   "isGpuEnabled": false,
   "isInternetEnabled": true,
   "language": "python",
   "sourceType": "notebook"
  },
  "kernelspec": {
   "display_name": "Python 3",
   "language": "python",
   "name": "python3"
  },
  "language_info": {
   "codemirror_mode": {
    "name": "ipython",
    "version": 3
   },
   "file_extension": ".py",
   "mimetype": "text/x-python",
   "name": "python",
   "nbconvert_exporter": "python",
   "pygments_lexer": "ipython3",
   "version": "3.10.13"
  }
 },
 "nbformat": 4,
 "nbformat_minor": 4
}
